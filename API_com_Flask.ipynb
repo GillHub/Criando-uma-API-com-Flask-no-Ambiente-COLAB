{
  "nbformat": 4,
  "nbformat_minor": 0,
  "metadata": {
    "colab": {
      "provenance": []
    },
    "kernelspec": {
      "name": "python3",
      "display_name": "Python 3"
    },
    "language_info": {
      "name": "python"
    }
  },
  "cells": [
    {
      "cell_type": "code",
      "execution_count": null,
      "metadata": {
        "colab": {
          "base_uri": "https://localhost:8080/"
        },
        "id": "_GbpyyDBsHlF",
        "outputId": "358c3b17-ace2-4f1e-8b1e-72b62835accf"
      },
      "outputs": [
        {
          "output_type": "stream",
          "name": "stdout",
          "text": [
            " * Serving Flask app '__main__'\n",
            " * Debug mode: on\n"
          ]
        },
        {
          "output_type": "stream",
          "name": "stderr",
          "text": [
            "INFO:werkzeug:\u001b[31m\u001b[1mWARNING: This is a development server. Do not use it in a production deployment. Use a production WSGI server instead.\u001b[0m\n",
            " * Running on http://127.0.0.1:5000\n",
            "INFO:werkzeug:\u001b[33mPress CTRL+C to quit\u001b[0m\n",
            "INFO:werkzeug: * Restarting with stat\n"
          ]
        }
      ],
      "source": [
        "from flask import Flask, jsonify\n",
        "\n",
        "app = Flask(__name__)\n",
        "\n",
        "# Dados de exemplo (substitua pelos seus dados reais)\n",
        "dados = [\n",
        "    {\"nome\": \"João\", \"idade\": 30},\n",
        "    {\"nome\": \"Maria\", \"idade\": 25},\n",
        "    # ... outros dados\n",
        "]\n",
        "\n",
        "@app.route('/index', methods=['GET'])\n",
        "def obter_planilha():\n",
        "    return jsonify(dados)\n",
        "\n",
        "if __name__ == '__main__':\n",
        "    app.run(debug=True)"
      ]
    },
    {
      "cell_type": "markdown",
      "source": [],
      "metadata": {
        "id": "GCc3RIqetjXo"
      }
    }
  ]
}